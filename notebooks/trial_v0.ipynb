{
 "cells": [
  {
   "cell_type": "markdown",
   "id": "47e86c71",
   "metadata": {},
   "source": [
    "# Real Estate Dataset Analysis"
   ]
  },
  {
   "cell_type": "code",
   "execution_count": 15,
   "id": "202fd4ab",
   "metadata": {},
   "outputs": [],
   "source": [
    "import pandas as pd \n",
    "import numpy as np\n",
    "import matplotlib.pyplot as plt\n",
    "import seaborn as sns\n",
    "from typing import Optional, Sequence\n",
    "from typing import Iterable, Optional"
   ]
  },
  {
   "cell_type": "code",
   "execution_count": 16,
   "id": "f83f2990",
   "metadata": {},
   "outputs": [
    {
     "name": "stdout",
     "output_type": "stream",
     "text": [
      "/Users/rakshanda/Documents/Projects/snaphomz-trial-Rakshanda/notebooks\n"
     ]
    }
   ],
   "source": [
    "!pwd"
   ]
  },
  {
   "cell_type": "code",
   "execution_count": 17,
   "id": "4478955b",
   "metadata": {},
   "outputs": [
    {
     "data": {
      "text/html": [
       "<div>\n",
       "<style scoped>\n",
       "    .dataframe tbody tr th:only-of-type {\n",
       "        vertical-align: middle;\n",
       "    }\n",
       "\n",
       "    .dataframe tbody tr th {\n",
       "        vertical-align: top;\n",
       "    }\n",
       "\n",
       "    .dataframe thead th {\n",
       "        text-align: right;\n",
       "    }\n",
       "</style>\n",
       "<table border=\"1\" class=\"dataframe\">\n",
       "  <thead>\n",
       "    <tr style=\"text-align: right;\">\n",
       "      <th></th>\n",
       "      <th>id</th>\n",
       "      <th>address</th>\n",
       "      <th>city</th>\n",
       "      <th>state</th>\n",
       "      <th>price</th>\n",
       "      <th>beds</th>\n",
       "      <th>baths</th>\n",
       "      <th>sqft</th>\n",
       "      <th>remarks</th>\n",
       "      <th>agent_id</th>\n",
       "      <th>list_date</th>\n",
       "      <th>media_urls</th>\n",
       "    </tr>\n",
       "  </thead>\n",
       "  <tbody>\n",
       "    <tr>\n",
       "      <th>0</th>\n",
       "      <td>MLS-TX-1000</td>\n",
       "      <td>960 Cedar Ct, Frisco, TX</td>\n",
       "      <td>Frisco</td>\n",
       "      <td>TX</td>\n",
       "      <td>803788</td>\n",
       "      <td>3</td>\n",
       "      <td>3</td>\n",
       "      <td>3892</td>\n",
       "      <td>quiet cul-de-sac, two-car garage, near good sc...</td>\n",
       "      <td>AG7396</td>\n",
       "      <td>2025-07-14</td>\n",
       "      <td>[\"https://picsum.photos/seed/0/1200/800\"]</td>\n",
       "    </tr>\n",
       "    <tr>\n",
       "      <th>1</th>\n",
       "      <td>MLS-CA-1001</td>\n",
       "      <td>2658 Elm Dr, Santa Clara, CA</td>\n",
       "      <td>Santa Clara</td>\n",
       "      <td>CA</td>\n",
       "      <td>1908765</td>\n",
       "      <td>3</td>\n",
       "      <td>2</td>\n",
       "      <td>3547</td>\n",
       "      <td>fresh paint, new roof 2022, large backyard, HO...</td>\n",
       "      <td>AG3612</td>\n",
       "      <td>2024-12-05</td>\n",
       "      <td>[\"https://picsum.photos/seed/1/1200/800\"]</td>\n",
       "    </tr>\n",
       "    <tr>\n",
       "      <th>2</th>\n",
       "      <td>MLS-CA-1002</td>\n",
       "      <td>7199 Birch Way, Mountain View, CA</td>\n",
       "      <td>Mountain View</td>\n",
       "      <td>CA</td>\n",
       "      <td>507705</td>\n",
       "      <td>4</td>\n",
       "      <td>3</td>\n",
       "      <td>1575</td>\n",
       "      <td>updated kitchen, stainless appliances, fresh p...</td>\n",
       "      <td>AG1995</td>\n",
       "      <td>2024-09-26</td>\n",
       "      <td>[\"https://picsum.photos/seed/2/1200/800\"]</td>\n",
       "    </tr>\n",
       "    <tr>\n",
       "      <th>3</th>\n",
       "      <td>MLS-TX-1003</td>\n",
       "      <td>7729 Walnut Blvd, Frisco, TX</td>\n",
       "      <td>Frisco</td>\n",
       "      <td>TX</td>\n",
       "      <td>1016982</td>\n",
       "      <td>4</td>\n",
       "      <td>1</td>\n",
       "      <td>3143</td>\n",
       "      <td>granite counters, new roof 2022, tile flooring...</td>\n",
       "      <td>AG6892</td>\n",
       "      <td>2025-05-04</td>\n",
       "      <td>[\"https://picsum.photos/seed/3/1200/800\"]</td>\n",
       "    </tr>\n",
       "    <tr>\n",
       "      <th>4</th>\n",
       "      <td>MLS-TX-1004</td>\n",
       "      <td>6284 Oak Ave, Frisco, TX</td>\n",
       "      <td>Frisco</td>\n",
       "      <td>TX</td>\n",
       "      <td>682810</td>\n",
       "      <td>4</td>\n",
       "      <td>1</td>\n",
       "      <td>2663</td>\n",
       "      <td>two-car garage, hardwood floors, vaulted ceili...</td>\n",
       "      <td>AG6977</td>\n",
       "      <td>2025-07-07</td>\n",
       "      <td>[\"https://picsum.photos/seed/4/1200/800\"]</td>\n",
       "    </tr>\n",
       "  </tbody>\n",
       "</table>\n",
       "</div>"
      ],
      "text/plain": [
       "            id                            address           city state  \\\n",
       "0  MLS-TX-1000           960 Cedar Ct, Frisco, TX         Frisco    TX   \n",
       "1  MLS-CA-1001       2658 Elm Dr, Santa Clara, CA    Santa Clara    CA   \n",
       "2  MLS-CA-1002  7199 Birch Way, Mountain View, CA  Mountain View    CA   \n",
       "3  MLS-TX-1003       7729 Walnut Blvd, Frisco, TX         Frisco    TX   \n",
       "4  MLS-TX-1004           6284 Oak Ave, Frisco, TX         Frisco    TX   \n",
       "\n",
       "     price  beds  baths  sqft  \\\n",
       "0   803788     3      3  3892   \n",
       "1  1908765     3      2  3547   \n",
       "2   507705     4      3  1575   \n",
       "3  1016982     4      1  3143   \n",
       "4   682810     4      1  2663   \n",
       "\n",
       "                                             remarks agent_id   list_date  \\\n",
       "0  quiet cul-de-sac, two-car garage, near good sc...   AG7396  2025-07-14   \n",
       "1  fresh paint, new roof 2022, large backyard, HO...   AG3612  2024-12-05   \n",
       "2  updated kitchen, stainless appliances, fresh p...   AG1995  2024-09-26   \n",
       "3  granite counters, new roof 2022, tile flooring...   AG6892  2025-05-04   \n",
       "4  two-car garage, hardwood floors, vaulted ceili...   AG6977  2025-07-07   \n",
       "\n",
       "                                  media_urls  \n",
       "0  [\"https://picsum.photos/seed/0/1200/800\"]  \n",
       "1  [\"https://picsum.photos/seed/1/1200/800\"]  \n",
       "2  [\"https://picsum.photos/seed/2/1200/800\"]  \n",
       "3  [\"https://picsum.photos/seed/3/1200/800\"]  \n",
       "4  [\"https://picsum.photos/seed/4/1200/800\"]  "
      ]
     },
     "execution_count": 17,
     "metadata": {},
     "output_type": "execute_result"
    }
   ],
   "source": [
    "# Read the data\n",
    "# Data \n",
    "org_data = pd.read_csv(\"../data/listings_sample.csv\")\n",
    "org_data.head()\n"
   ]
  },
  {
   "cell_type": "code",
   "execution_count": 18,
   "id": "c254e3e3",
   "metadata": {},
   "outputs": [
    {
     "name": "stdout",
     "output_type": "stream",
     "text": [
      "['id', 'address', 'city', 'state', 'price', 'beds', 'baths', 'sqft', 'remarks', 'agent_id', 'list_date', 'media_urls']\n"
     ]
    }
   ],
   "source": [
    "column_names = org_data.columns.tolist()\n",
    "print(column_names)"
   ]
  },
  {
   "cell_type": "code",
   "execution_count": 19,
   "id": "253b0a83",
   "metadata": {},
   "outputs": [
    {
     "name": "stdout",
     "output_type": "stream",
     "text": [
      "<class 'pandas.core.frame.DataFrame'>\n",
      "RangeIndex: 160 entries, 0 to 159\n",
      "Data columns (total 12 columns):\n",
      " #   Column      Non-Null Count  Dtype \n",
      "---  ------      --------------  ----- \n",
      " 0   id          160 non-null    object\n",
      " 1   address     160 non-null    object\n",
      " 2   city        160 non-null    object\n",
      " 3   state       160 non-null    object\n",
      " 4   price       160 non-null    int64 \n",
      " 5   beds        160 non-null    int64 \n",
      " 6   baths       160 non-null    int64 \n",
      " 7   sqft        160 non-null    int64 \n",
      " 8   remarks     160 non-null    object\n",
      " 9   agent_id    160 non-null    object\n",
      " 10  list_date   160 non-null    object\n",
      " 11  media_urls  160 non-null    object\n",
      "dtypes: int64(4), object(8)\n",
      "memory usage: 15.1+ KB\n"
     ]
    },
    {
     "data": {
      "text/html": [
       "<div>\n",
       "<style scoped>\n",
       "    .dataframe tbody tr th:only-of-type {\n",
       "        vertical-align: middle;\n",
       "    }\n",
       "\n",
       "    .dataframe tbody tr th {\n",
       "        vertical-align: top;\n",
       "    }\n",
       "\n",
       "    .dataframe thead th {\n",
       "        text-align: right;\n",
       "    }\n",
       "</style>\n",
       "<table border=\"1\" class=\"dataframe\">\n",
       "  <thead>\n",
       "    <tr style=\"text-align: right;\">\n",
       "      <th></th>\n",
       "      <th>price</th>\n",
       "      <th>beds</th>\n",
       "      <th>baths</th>\n",
       "      <th>sqft</th>\n",
       "    </tr>\n",
       "  </thead>\n",
       "  <tbody>\n",
       "    <tr>\n",
       "      <th>count</th>\n",
       "      <td>1.600000e+02</td>\n",
       "      <td>160.000000</td>\n",
       "      <td>160.000000</td>\n",
       "      <td>160.000000</td>\n",
       "    </tr>\n",
       "    <tr>\n",
       "      <th>mean</th>\n",
       "      <td>1.101729e+06</td>\n",
       "      <td>3.456250</td>\n",
       "      <td>2.156250</td>\n",
       "      <td>2380.987500</td>\n",
       "    </tr>\n",
       "    <tr>\n",
       "      <th>std</th>\n",
       "      <td>7.879282e+05</td>\n",
       "      <td>0.983172</td>\n",
       "      <td>0.687232</td>\n",
       "      <td>985.057563</td>\n",
       "    </tr>\n",
       "    <tr>\n",
       "      <th>min</th>\n",
       "      <td>1.751420e+05</td>\n",
       "      <td>2.000000</td>\n",
       "      <td>1.000000</td>\n",
       "      <td>809.000000</td>\n",
       "    </tr>\n",
       "    <tr>\n",
       "      <th>25%</th>\n",
       "      <td>5.085175e+05</td>\n",
       "      <td>3.000000</td>\n",
       "      <td>2.000000</td>\n",
       "      <td>1479.750000</td>\n",
       "    </tr>\n",
       "    <tr>\n",
       "      <th>50%</th>\n",
       "      <td>8.630205e+05</td>\n",
       "      <td>3.000000</td>\n",
       "      <td>2.000000</td>\n",
       "      <td>2399.000000</td>\n",
       "    </tr>\n",
       "    <tr>\n",
       "      <th>75%</th>\n",
       "      <td>1.454584e+06</td>\n",
       "      <td>4.000000</td>\n",
       "      <td>3.000000</td>\n",
       "      <td>3158.250000</td>\n",
       "    </tr>\n",
       "    <tr>\n",
       "      <th>max</th>\n",
       "      <td>3.528809e+06</td>\n",
       "      <td>5.000000</td>\n",
       "      <td>3.000000</td>\n",
       "      <td>4187.000000</td>\n",
       "    </tr>\n",
       "  </tbody>\n",
       "</table>\n",
       "</div>"
      ],
      "text/plain": [
       "              price        beds       baths         sqft\n",
       "count  1.600000e+02  160.000000  160.000000   160.000000\n",
       "mean   1.101729e+06    3.456250    2.156250  2380.987500\n",
       "std    7.879282e+05    0.983172    0.687232   985.057563\n",
       "min    1.751420e+05    2.000000    1.000000   809.000000\n",
       "25%    5.085175e+05    3.000000    2.000000  1479.750000\n",
       "50%    8.630205e+05    3.000000    2.000000  2399.000000\n",
       "75%    1.454584e+06    4.000000    3.000000  3158.250000\n",
       "max    3.528809e+06    5.000000    3.000000  4187.000000"
      ]
     },
     "execution_count": 19,
     "metadata": {},
     "output_type": "execute_result"
    }
   ],
   "source": [
    "org_data.info()\n",
    "org_data.describe()"
   ]
  },
  {
   "cell_type": "markdown",
   "id": "07798d90",
   "metadata": {},
   "source": [
    "## Data Cleanup"
   ]
  },
  {
   "cell_type": "code",
   "execution_count": 20,
   "id": "ffcefa29",
   "metadata": {},
   "outputs": [
    {
     "name": "stdout",
     "output_type": "stream",
     "text": [
      "<class 'pandas.core.frame.DataFrame'>\n",
      "RangeIndex: 160 entries, 0 to 159\n",
      "Data columns (total 16 columns):\n",
      " #   Column         Non-Null Count  Dtype \n",
      "---  ------         --------------  ----- \n",
      " 0   id             160 non-null    object\n",
      " 1   address        160 non-null    object\n",
      " 2   city           160 non-null    object\n",
      " 3   state          160 non-null    object\n",
      " 4   price          160 non-null    int64 \n",
      " 5   beds           160 non-null    int64 \n",
      " 6   baths          160 non-null    int64 \n",
      " 7   sqft           160 non-null    int64 \n",
      " 8   remarks        160 non-null    object\n",
      " 9   agent_id       160 non-null    object\n",
      " 10  list_date      160 non-null    object\n",
      " 11  media_urls     160 non-null    object\n",
      " 12  price_missing  160 non-null    bool  \n",
      " 13  beds_missing   160 non-null    bool  \n",
      " 14  baths_missing  160 non-null    bool  \n",
      " 15  sqft_missing   160 non-null    bool  \n",
      "dtypes: bool(4), int64(4), object(8)\n",
      "memory usage: 15.8+ KB\n"
     ]
    }
   ],
   "source": [
    "\n",
    "\n",
    "df = org_data.copy()\n",
    "\n",
    "cols = df.select_dtypes(include='number').columns.tolist()\n",
    "add_indicator = True\n",
    "\n",
    "for c in cols:\n",
    "    # record where values are missing BEFORE imputation\n",
    "    missing_mask = df[c].isna()\n",
    "    if add_indicator:\n",
    "        df[f\"{c}_missing\"] = missing_mask\n",
    "\n",
    "    # compute median skipping NaNs\n",
    "    median = df[c].median(skipna=True)\n",
    "\n",
    "    # If median is NaN (e.g. all values missing), skip imputation to avoid filling with NaN\n",
    "    if pd.notna(median):\n",
    "        df[c] = df[c].fillna(median)\n",
    "\n",
    "df.info()    \n",
    "\n"
   ]
  },
  {
   "cell_type": "code",
   "execution_count": 21,
   "id": "6eed23f8",
   "metadata": {},
   "outputs": [
    {
     "data": {
      "text/html": [
       "<div>\n",
       "<style scoped>\n",
       "    .dataframe tbody tr th:only-of-type {\n",
       "        vertical-align: middle;\n",
       "    }\n",
       "\n",
       "    .dataframe tbody tr th {\n",
       "        vertical-align: top;\n",
       "    }\n",
       "\n",
       "    .dataframe thead th {\n",
       "        text-align: right;\n",
       "    }\n",
       "</style>\n",
       "<table border=\"1\" class=\"dataframe\">\n",
       "  <thead>\n",
       "    <tr style=\"text-align: right;\">\n",
       "      <th></th>\n",
       "      <th>price</th>\n",
       "      <th>beds</th>\n",
       "      <th>baths</th>\n",
       "      <th>sqft</th>\n",
       "    </tr>\n",
       "  </thead>\n",
       "  <tbody>\n",
       "    <tr>\n",
       "      <th>count</th>\n",
       "      <td>1.600000e+02</td>\n",
       "      <td>160.000000</td>\n",
       "      <td>160.000000</td>\n",
       "      <td>160.000000</td>\n",
       "    </tr>\n",
       "    <tr>\n",
       "      <th>mean</th>\n",
       "      <td>1.099657e+06</td>\n",
       "      <td>3.456250</td>\n",
       "      <td>2.156250</td>\n",
       "      <td>2380.896125</td>\n",
       "    </tr>\n",
       "    <tr>\n",
       "      <th>std</th>\n",
       "      <td>7.810958e+05</td>\n",
       "      <td>0.983172</td>\n",
       "      <td>0.687232</td>\n",
       "      <td>984.193249</td>\n",
       "    </tr>\n",
       "    <tr>\n",
       "      <th>min</th>\n",
       "      <td>2.001180e+05</td>\n",
       "      <td>2.000000</td>\n",
       "      <td>1.000000</td>\n",
       "      <td>829.800000</td>\n",
       "    </tr>\n",
       "    <tr>\n",
       "      <th>25%</th>\n",
       "      <td>5.085175e+05</td>\n",
       "      <td>3.000000</td>\n",
       "      <td>2.000000</td>\n",
       "      <td>1479.750000</td>\n",
       "    </tr>\n",
       "    <tr>\n",
       "      <th>50%</th>\n",
       "      <td>8.630205e+05</td>\n",
       "      <td>3.000000</td>\n",
       "      <td>2.000000</td>\n",
       "      <td>2399.000000</td>\n",
       "    </tr>\n",
       "    <tr>\n",
       "      <th>75%</th>\n",
       "      <td>1.454584e+06</td>\n",
       "      <td>4.000000</td>\n",
       "      <td>3.000000</td>\n",
       "      <td>3158.250000</td>\n",
       "    </tr>\n",
       "    <tr>\n",
       "      <th>max</th>\n",
       "      <td>3.298888e+06</td>\n",
       "      <td>5.000000</td>\n",
       "      <td>3.000000</td>\n",
       "      <td>4156.890000</td>\n",
       "    </tr>\n",
       "  </tbody>\n",
       "</table>\n",
       "</div>"
      ],
      "text/plain": [
       "              price        beds       baths         sqft\n",
       "count  1.600000e+02  160.000000  160.000000   160.000000\n",
       "mean   1.099657e+06    3.456250    2.156250  2380.896125\n",
       "std    7.810958e+05    0.983172    0.687232   984.193249\n",
       "min    2.001180e+05    2.000000    1.000000   829.800000\n",
       "25%    5.085175e+05    3.000000    2.000000  1479.750000\n",
       "50%    8.630205e+05    3.000000    2.000000  2399.000000\n",
       "75%    1.454584e+06    4.000000    3.000000  3158.250000\n",
       "max    3.298888e+06    5.000000    3.000000  4156.890000"
      ]
     },
     "execution_count": 21,
     "metadata": {},
     "output_type": "execute_result"
    }
   ],
   "source": [
    "def winsorize_series(series, lower_pct=0.01, upper_pct=0.99):\n",
    "    low = series.quantile(lower_pct)\n",
    "    high = series.quantile(upper_pct)\n",
    "    return series.clip(lower=low, upper=high)\n",
    "\n",
    "for c in cols:\n",
    "    df[c] = winsorize_series(df[c], lower_pct=0.01, upper_pct=0.99)\n",
    "\n",
    "df.describe()"
   ]
  },
  {
   "cell_type": "code",
   "execution_count": 22,
   "id": "c3983781",
   "metadata": {},
   "outputs": [],
   "source": [
    "# Identify non-essential columns to drop\n",
    "nonessential_cols = ['address', 'media_urls','remarks']\n",
    "df = df.drop(columns=nonessential_cols, errors='ignore')"
   ]
  },
  {
   "cell_type": "code",
   "execution_count": 23,
   "id": "cb5eec2b",
   "metadata": {},
   "outputs": [
    {
     "name": "stdout",
     "output_type": "stream",
     "text": [
      "['id', 'city', 'state', 'agent_id', 'list_date']\n",
      "Unique values for id: len=160 \n",
      "Unique values for city: len=8 \n",
      "Unique values for state: len=2 \n",
      "Unique values for agent_id: len=159 \n",
      "Unique values for list_date: len=146 \n",
      "<class 'pandas.core.frame.DataFrame'>\n",
      "RangeIndex: 160 entries, 0 to 159\n",
      "Data columns (total 23 columns):\n",
      " #   Column              Non-Null Count  Dtype  \n",
      "---  ------              --------------  -----  \n",
      " 0   price               160 non-null    float64\n",
      " 1   beds                160 non-null    int64  \n",
      " 2   baths               160 non-null    int64  \n",
      " 3   sqft                160 non-null    float64\n",
      " 4   price_missing       160 non-null    bool   \n",
      " 5   beds_missing        160 non-null    bool   \n",
      " 6   baths_missing       160 non-null    bool   \n",
      " 7   sqft_missing        160 non-null    bool   \n",
      " 8   id_code             160 non-null    int64  \n",
      " 9   city_Dallas         160 non-null    bool   \n",
      " 10  city_Frisco         160 non-null    bool   \n",
      " 11  city_Mountain View  160 non-null    bool   \n",
      " 12  city_Palo Alto      160 non-null    bool   \n",
      " 13  city_Plano          160 non-null    bool   \n",
      " 14  city_San Jose       160 non-null    bool   \n",
      " 15  city_Santa Clara    160 non-null    bool   \n",
      " 16  city_Sunnyvale      160 non-null    bool   \n",
      " 17  city_nan            160 non-null    bool   \n",
      " 18  state_CA            160 non-null    bool   \n",
      " 19  state_TX            160 non-null    bool   \n",
      " 20  state_nan           160 non-null    bool   \n",
      " 21  agent_id_code       160 non-null    int64  \n",
      " 22  list_date_code      160 non-null    int64  \n",
      "dtypes: bool(16), float64(2), int64(5)\n",
      "memory usage: 11.4 KB\n",
      "['price', 'beds', 'baths', 'sqft', 'price_missing', 'beds_missing', 'baths_missing', 'sqft_missing', 'id_code', 'city_Dallas', 'city_Frisco', 'city_Mountain View', 'city_Palo Alto', 'city_Plano', 'city_San Jose', 'city_Santa Clara', 'city_Sunnyvale', 'city_nan', 'state_CA', 'state_TX', 'state_nan', 'agent_id_code', 'list_date_code']\n"
     ]
    }
   ],
   "source": [
    "# Convert categorical columns to one hot encoding\n",
    "categorical_cols = df.select_dtypes(include='object').columns.tolist()\n",
    "print(categorical_cols)\n",
    "\n",
    "# fetch unique values for each categorical column \n",
    "for col in categorical_cols:\n",
    "    unique_values = df[col].unique()\n",
    "    print(f\"Unique values for {col}: len={len(unique_values)} \")\n",
    "    if unique_values.size < 20:\n",
    "        df = pd.get_dummies(df, columns=[col],\n",
    "                        dummy_na=True, \n",
    "                        # dtype=int\n",
    "                        )\n",
    "    else:\n",
    "        codes, uniques = pd.factorize(df[col], sort=True)\n",
    "        # codes: -1 for NaN, 0..k-1 for categories -> shift with +1 if you want NaN=0\n",
    "        df[col+'_code'] = (codes + 1).astype(int)\n",
    "        df = df.drop(columns=[col], errors='ignore')\n",
    "df.info() \n",
    "print(df.columns.tolist())    \n",
    "\n"
   ]
  },
  {
   "cell_type": "code",
   "execution_count": 24,
   "id": "7cf74c53",
   "metadata": {},
   "outputs": [],
   "source": [
    "  # Derive price_per_sqft\n",
    "df['price_per_sqft'] = df['price'] / df['sqft']"
   ]
  },
  {
   "cell_type": "markdown",
   "id": "0dc04a8d",
   "metadata": {},
   "source": []
  },
  {
   "cell_type": "code",
   "execution_count": 25,
   "id": "0ceb201f",
   "metadata": {},
   "outputs": [
    {
     "name": "stdout",
     "output_type": "stream",
     "text": [
      "<class 'pandas.core.frame.DataFrame'>\n",
      "RangeIndex: 160 entries, 0 to 159\n",
      "Data columns (total 24 columns):\n",
      " #   Column              Non-Null Count  Dtype  \n",
      "---  ------              --------------  -----  \n",
      " 0   price               160 non-null    float64\n",
      " 1   beds                160 non-null    int64  \n",
      " 2   baths               160 non-null    int64  \n",
      " 3   sqft                160 non-null    float64\n",
      " 4   price_missing       160 non-null    bool   \n",
      " 5   beds_missing        160 non-null    bool   \n",
      " 6   baths_missing       160 non-null    bool   \n",
      " 7   sqft_missing        160 non-null    bool   \n",
      " 8   id_code             160 non-null    int64  \n",
      " 9   city_Dallas         160 non-null    bool   \n",
      " 10  city_Frisco         160 non-null    bool   \n",
      " 11  city_Mountain View  160 non-null    bool   \n",
      " 12  city_Palo Alto      160 non-null    bool   \n",
      " 13  city_Plano          160 non-null    bool   \n",
      " 14  city_San Jose       160 non-null    bool   \n",
      " 15  city_Santa Clara    160 non-null    bool   \n",
      " 16  city_Sunnyvale      160 non-null    bool   \n",
      " 17  city_nan            160 non-null    bool   \n",
      " 18  state_CA            160 non-null    bool   \n",
      " 19  state_TX            160 non-null    bool   \n",
      " 20  state_nan           160 non-null    bool   \n",
      " 21  agent_id_code       160 non-null    int64  \n",
      " 22  list_date_code      160 non-null    int64  \n",
      " 23  price_per_sqft      160 non-null    float64\n",
      "dtypes: bool(16), float64(3), int64(5)\n",
      "memory usage: 12.6 KB\n"
     ]
    },
    {
     "data": {
      "text/html": [
       "<div>\n",
       "<style scoped>\n",
       "    .dataframe tbody tr th:only-of-type {\n",
       "        vertical-align: middle;\n",
       "    }\n",
       "\n",
       "    .dataframe tbody tr th {\n",
       "        vertical-align: top;\n",
       "    }\n",
       "\n",
       "    .dataframe thead th {\n",
       "        text-align: right;\n",
       "    }\n",
       "</style>\n",
       "<table border=\"1\" class=\"dataframe\">\n",
       "  <thead>\n",
       "    <tr style=\"text-align: right;\">\n",
       "      <th></th>\n",
       "      <th>price</th>\n",
       "      <th>beds</th>\n",
       "      <th>baths</th>\n",
       "      <th>sqft</th>\n",
       "      <th>id_code</th>\n",
       "      <th>agent_id_code</th>\n",
       "      <th>list_date_code</th>\n",
       "      <th>price_per_sqft</th>\n",
       "    </tr>\n",
       "  </thead>\n",
       "  <tbody>\n",
       "    <tr>\n",
       "      <th>count</th>\n",
       "      <td>1.600000e+02</td>\n",
       "      <td>160.000000</td>\n",
       "      <td>160.000000</td>\n",
       "      <td>160.000000</td>\n",
       "      <td>160.000000</td>\n",
       "      <td>160.000000</td>\n",
       "      <td>160.000000</td>\n",
       "      <td>160.000000</td>\n",
       "    </tr>\n",
       "    <tr>\n",
       "      <th>mean</th>\n",
       "      <td>1.099657e+06</td>\n",
       "      <td>3.456250</td>\n",
       "      <td>2.156250</td>\n",
       "      <td>2380.896125</td>\n",
       "      <td>80.500000</td>\n",
       "      <td>79.912500</td>\n",
       "      <td>74.137500</td>\n",
       "      <td>451.660634</td>\n",
       "    </tr>\n",
       "    <tr>\n",
       "      <th>std</th>\n",
       "      <td>7.810958e+05</td>\n",
       "      <td>0.983172</td>\n",
       "      <td>0.687232</td>\n",
       "      <td>984.193249</td>\n",
       "      <td>46.332134</td>\n",
       "      <td>45.911781</td>\n",
       "      <td>42.464708</td>\n",
       "      <td>229.213166</td>\n",
       "    </tr>\n",
       "    <tr>\n",
       "      <th>min</th>\n",
       "      <td>2.001180e+05</td>\n",
       "      <td>2.000000</td>\n",
       "      <td>1.000000</td>\n",
       "      <td>829.800000</td>\n",
       "      <td>1.000000</td>\n",
       "      <td>1.000000</td>\n",
       "      <td>1.000000</td>\n",
       "      <td>183.036332</td>\n",
       "    </tr>\n",
       "    <tr>\n",
       "      <th>25%</th>\n",
       "      <td>5.085175e+05</td>\n",
       "      <td>3.000000</td>\n",
       "      <td>2.000000</td>\n",
       "      <td>1479.750000</td>\n",
       "      <td>40.750000</td>\n",
       "      <td>40.750000</td>\n",
       "      <td>37.750000</td>\n",
       "      <td>265.616797</td>\n",
       "    </tr>\n",
       "    <tr>\n",
       "      <th>50%</th>\n",
       "      <td>8.630205e+05</td>\n",
       "      <td>3.000000</td>\n",
       "      <td>2.000000</td>\n",
       "      <td>2399.000000</td>\n",
       "      <td>80.500000</td>\n",
       "      <td>79.500000</td>\n",
       "      <td>75.000000</td>\n",
       "      <td>340.672676</td>\n",
       "    </tr>\n",
       "    <tr>\n",
       "      <th>75%</th>\n",
       "      <td>1.454584e+06</td>\n",
       "      <td>4.000000</td>\n",
       "      <td>3.000000</td>\n",
       "      <td>3158.250000</td>\n",
       "      <td>120.250000</td>\n",
       "      <td>119.250000</td>\n",
       "      <td>110.250000</td>\n",
       "      <td>602.797497</td>\n",
       "    </tr>\n",
       "    <tr>\n",
       "      <th>max</th>\n",
       "      <td>3.298888e+06</td>\n",
       "      <td>5.000000</td>\n",
       "      <td>3.000000</td>\n",
       "      <td>4156.890000</td>\n",
       "      <td>160.000000</td>\n",
       "      <td>159.000000</td>\n",
       "      <td>146.000000</td>\n",
       "      <td>945.615679</td>\n",
       "    </tr>\n",
       "  </tbody>\n",
       "</table>\n",
       "</div>"
      ],
      "text/plain": [
       "              price        beds       baths         sqft     id_code  \\\n",
       "count  1.600000e+02  160.000000  160.000000   160.000000  160.000000   \n",
       "mean   1.099657e+06    3.456250    2.156250  2380.896125   80.500000   \n",
       "std    7.810958e+05    0.983172    0.687232   984.193249   46.332134   \n",
       "min    2.001180e+05    2.000000    1.000000   829.800000    1.000000   \n",
       "25%    5.085175e+05    3.000000    2.000000  1479.750000   40.750000   \n",
       "50%    8.630205e+05    3.000000    2.000000  2399.000000   80.500000   \n",
       "75%    1.454584e+06    4.000000    3.000000  3158.250000  120.250000   \n",
       "max    3.298888e+06    5.000000    3.000000  4156.890000  160.000000   \n",
       "\n",
       "       agent_id_code  list_date_code  price_per_sqft  \n",
       "count     160.000000      160.000000      160.000000  \n",
       "mean       79.912500       74.137500      451.660634  \n",
       "std        45.911781       42.464708      229.213166  \n",
       "min         1.000000        1.000000      183.036332  \n",
       "25%        40.750000       37.750000      265.616797  \n",
       "50%        79.500000       75.000000      340.672676  \n",
       "75%       119.250000      110.250000      602.797497  \n",
       "max       159.000000      146.000000      945.615679  "
      ]
     },
     "execution_count": 25,
     "metadata": {},
     "output_type": "execute_result"
    }
   ],
   "source": [
    "df.info()\n",
    "df.describe()"
   ]
  },
  {
   "cell_type": "markdown",
   "id": "4328a3d3",
   "metadata": {},
   "source": [
    "## Plots for the analysing the Data Distribution\n",
    "\n"
   ]
  },
  {
   "cell_type": "code",
   "execution_count": 40,
   "id": "1b760d07",
   "metadata": {},
   "outputs": [
    {
     "data": {
      "image/png": "[encoded data removed]",
      "text/plain": [
       "<Figure size 640x480 with 1 Axes>"
      ]
     },
     "metadata": {},
     "output_type": "display_data"
    }
   ],
   "source": [
    "# counts by city (bar)\n",
    "top_cities = org_data['city'].value_counts().nlargest(20).index\n",
    "sns.countplot(data=org_data[org_data['city'].isin(top_cities)], y='city', hue='state', order=top_cities)\n",
    "plt.title('Top 20 cities by listing count')\n",
    "plt.tight_layout()"
   ]
  },
  {
   "cell_type": "markdown",
   "id": "6dc60aae",
   "metadata": {},
   "source": [
    "## Insights from the list count per city distribution\n",
    "-> Number of listings among all cities are highest for the City \"Frisco\"\n",
    "-> Number of listings among all cities are lowest for the City \"Sunnyvale\"\n",
    "-> Among the 2 states, the TX listings are more than CA\n",
    "\n"
   ]
  },
  {
   "cell_type": "code",
   "execution_count": 41,
   "id": "702b6058",
   "metadata": {},
   "outputs": [
    {
     "data": {
      "image/png": "[encoded data removed]",
      "text/plain": [
       "<Figure size 640x480 with 1 Axes>"
      ]
     },
     "metadata": {},
     "output_type": "display_data"
    }
   ],
   "source": [
    "# python\n",
    "# price distribution by city (box) — limit to top cities to keep plot readable\n",
    "sns.boxplot(data=org_data[org_data['city'].isin(top_cities)], x='price', y='city', hue='state', showfliers=False)\n",
    "# plt.xscale('log')  # optional if price is skewed\n",
    "plt.title('Price distribution by city (no extreme outliers)')\n",
    "plt.tight_layout()"
   ]
  },
  {
   "cell_type": "markdown",
   "id": "502e10ed",
   "metadata": {},
   "source": [
    "## Insights from the Price distribution by City\n",
    "-> CA cities (Sunnyvale, Palo Alto, Mountain View, San Jose, Santa Clara) have noticeably higher median prices than the TX cities shown (Frisco, Dallas, Plano)\n",
    "-> TX state cities - Frisco, Dallas, Plano have lower medians and generally tighter spreads - implies more consistent, lower‑priced markets\n",
    "-> No extremem outliers"
   ]
  },
  {
   "cell_type": "code",
   "execution_count": 43,
   "id": "c07232bb",
   "metadata": {},
   "outputs": [
    {
     "data": {
      "image/png": "[encoded data removed]",
      "text/plain": [
       "<Figure size 640x480 with 2 Axes>"
      ]
     },
     "metadata": {},
     "output_type": "display_data"
    }
   ],
   "source": [
    "# python\n",
    "# pivot: avg price_per_sqft by beds x baths, then heatmap\n",
    "pivot = df.pivot_table(index='beds', columns='baths', values='price_per_sqft', aggfunc='mean')\n",
    "sns.heatmap(pivot, annot=True, fmt='.0f', cmap='viridis')\n",
    "plt.title('Avg price_per_sqft by beds and baths')\n",
    "plt.tight_layout()"
   ]
  },
  {
   "cell_type": "markdown",
   "id": "0597e757",
   "metadata": {},
   "source": [
    "## Insights from Avg price/sqft by beds and baths \n",
    "-> Ideally we would expect that if there are more bathrooms and bedrooms, there would be increase in the price. But it is not the case here, there is no co-relation between highest numbers of bedroom and bathrooms costs the highest price / costlier (with 5 BEDS and 1 BATHS -> price= 591 vs\n",
    " with 2 BEDS and 3 BATHS -> price= 557)\n",
    "-> The lowest price per sqft is for the 2 BEDS and 1 BATHS -> price = 354, which makes sense that if number of BEDS and number of BATHS is low then price is also low."
   ]
  },
  {
   "cell_type": "code",
   "execution_count": 32,
   "id": "b82d5356",
   "metadata": {},
   "outputs": [
    {
     "data": {
      "image/png": "[encoded data removed]",
      "text/plain": [
       "<Figure size 640x480 with 1 Axes>"
      ]
     },
     "metadata": {},
     "output_type": "display_data"
    }
   ],
   "source": [
    "# python\n",
    "# scatter: sqft vs price colored by beds\n",
    "sns.scatterplot(data=df.sample(160, random_state=0), x='sqft', y='price', hue='beds', alpha=0.6)\n",
    "plt.xscale('log'); plt.yscale('log')  # optional\n",
    "plt.title('Sqft vs Price (colored by beds)')\n",
    "plt.tight_layout()"
   ]
  },
  {
   "cell_type": "markdown",
   "id": "de01884e",
   "metadata": {},
   "source": [
    "## Insights from the sqft vs price colored by beds\n",
    "\n",
    "-> We can see that prices gets increased with the increase in sqft\n",
    "-> There is no co-relation between the Sqft and the number of Beds"
   ]
  },
  {
   "cell_type": "code",
   "execution_count": null,
   "id": "a8a9add3",
   "metadata": {},
   "outputs": [
    {
     "name": "stdout",
     "output_type": "stream",
     "text": [
      "       listings    mean_price  median_price  avg_beds\n",
      "state                                                \n",
      "CA           91  1.485956e+06     1316301.0  3.505495\n",
      "TX           69  5.949951e+05      554351.0  3.391304\n"
     ]
    }
   ],
   "source": [
    "# python\n",
    "# summary table by state\n",
    "summary = org_data.groupby('state').agg(\n",
    "    listings=('price','size'),\n",
    "    mean_price=('price','mean'),\n",
    "    median_price=('price','median'),\n",
    "    avg_beds=('beds','mean')\n",
    ").sort_values('listings', ascending=False)\n",
    "print(summary.head(20))"
   ]
  },
  {
   "cell_type": "markdown",
   "id": "813d6e9d",
   "metadata": {},
   "source": [
    "## Insights about the data\n",
    "\n",
    "From the Summary table: \n",
    "-> CA has more listings compared to TX.\n",
    "-> As per mean, TX listings are costlier than the CA\n",
    "-> But the Median values are lesser than Mean which implies that it is Higly Right Skewed. \n",
    "-> So, We would go by Median since its higly right skewed\n",
    "-> By Median, we can conclude that CA has costlier listings than TA\n",
    "\n"
   ]
  }
 ],
 "metadata": {
  "kernelspec": {
   "display_name": "base",
   "language": "python",
   "name": "python3"
  },
  "language_info": {
   "codemirror_mode": {
    "name": "ipython",
    "version": 3
   },
   "file_extension": ".py",
   "mimetype": "text/x-python",
   "name": "python",
   "nbconvert_exporter": "python",
   "pygments_lexer": "ipython3",
   "version": "3.13.5"
  }
 },
 "nbformat": 4,
 "nbformat_minor": 5
}
